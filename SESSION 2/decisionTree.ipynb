{
  "nbformat": 4,
  "nbformat_minor": 0,
  "metadata": {
    "colab": {
      "provenance": []
    },
    "kernelspec": {
      "name": "python3",
      "display_name": "Python 3"
    },
    "language_info": {
      "name": "python"
    }
  },
  "cells": [
    {
      "cell_type": "code",
      "source": [
        "data = [\n",
        "    [12.0, 1.5, 1, 'Wine'],\n",
        "    [5.0, 2.0, 0, 'Beer'],\n",
        "    [40.0, 0.0, 1, 'Whiskey'],\n",
        "    [13.5, 1.2, 1, 'Wine'],\n",
        "    [4.5, 1.8, 0, 'Beer'],\n",
        "    [38.0, 0.1, 1, 'Whiskey'],\n",
        "    [11.5, 1.7, 1, 'Wine'],\n",
        "    [5.5, 2.3, 0, 'Beer']\n",
        "]"
      ],
      "metadata": {
        "id": "Cgifois5781P"
      },
      "execution_count": 42,
      "outputs": []
    },
    {
      "cell_type": "markdown",
      "source": [
        "To split the dataset into features and labels(as numpy arrays) and to convert the labels to inetgers"
      ],
      "metadata": {
        "id": "sW5L3ZuW9bNP"
      }
    },
    {
      "cell_type": "code",
      "source": [
        "import numpy as np\n",
        "# last element of each row of the dataset is for labels\n",
        "labels = [entry[-1] for entry in data]\n",
        "# rest is for features\n",
        "features = [entry[:-1] for entry in data]\n",
        "\n",
        "# extract all the unique values, here 'Wine', 'Beer' , 'Whiskey'\n",
        "unique_labels = np.unique(labels)\n",
        "print(unique_labels)\n",
        "\n",
        "# map 'Wine' to 2, 'Beer' to 0, 'Whiskey' to 1\n",
        "label_mapping = {label: idx for idx, label in enumerate(unique_labels)}\n",
        "\n",
        "# Convert the labels to integers using the label_mapping\n",
        "labels = np.array([label_mapping[label] for label in labels])\n",
        "\n",
        "# Convert the features to a numpy array\n",
        "feature_matrix = np.array(features, dtype=float)\n",
        "\n",
        "\n",
        "x = feature_matrix\n",
        "y = labels\n",
        "\n",
        "\n",
        "\n"
      ],
      "metadata": {
        "colab": {
          "base_uri": "https://localhost:8080/"
        },
        "id": "TmZhmMGH7_6H",
        "outputId": "d8574d2b-0e13-49ed-cfc4-1a9c368b296f"
      },
      "execution_count": 77,
      "outputs": [
        {
          "output_type": "stream",
          "name": "stdout",
          "text": [
            "['Beer' 'Whiskey' 'Wine']\n"
          ]
        }
      ]
    },
    {
      "cell_type": "markdown",
      "source": [
        "STEP 2: Function to find Gini Impurity"
      ],
      "metadata": {
        "id": "f-ma6XoJ9qMn"
      }
    },
    {
      "cell_type": "code",
      "source": [
        "import numpy as np\n",
        "\n",
        "def find_gini_impurity(labels):\n",
        "    # unique_classes is all the unique values in the labels array and class_counts is count of all the unique values in the labels array\n",
        "    unique_classes, class_counts = np.unique(labels, return_counts=True)\n",
        "\n",
        "    # probability for each class\n",
        "    class_probabilities = class_counts / len(labels)\n",
        "\n",
        "\n",
        "    gini_impurity = 1 - np.sum(class_probabilities ** 2)\n",
        "\n",
        "    return gini_impurity\n"
      ],
      "metadata": {
        "id": "pOn2vDyV9p5L"
      },
      "execution_count": 64,
      "outputs": []
    },
    {
      "cell_type": "markdown",
      "source": [
        "Step 3: Implement the Best Split Finder"
      ],
      "metadata": {
        "id": "cqZXxa4h-XVA"
      }
    },
    {
      "cell_type": "code",
      "source": [
        "def best_split(x, y):\n",
        "\n",
        "    best_gini = 1  # highest possible Gini value\n",
        "    best_feature = None\n",
        "    best_threshold = None\n",
        "\n",
        "    # Iterate over all features\n",
        "    for feature_index in range(x.shape[1]):\n",
        "\n",
        "\n",
        "        # Get all possible thresholds (midpoints between consecutive sorted values)\n",
        "\n",
        "        thresholds = np.unique(x[:, feature_index])\n",
        "\n",
        "        for threshold in thresholds:\n",
        "\n",
        "\n",
        "            # Split the dataset based on the threshold\n",
        "            left_mask = x[:, feature_index] <= threshold\n",
        "            right_mask = ~left_mask\n",
        "\n",
        "            # Get the labels for each side\n",
        "            left_labels = y[left_mask]\n",
        "            right_labels = y[right_mask]\n",
        "\n",
        "            # Check if the split is non-empty\n",
        "            if len(left_labels) == 0 or len(right_labels) == 0:\n",
        "                continue  # Skip this threshold since it results in an empty split\n",
        "\n",
        "            # Compute Gini Impurity for both sides of the split\n",
        "            left_gini = find_gini_impurity(left_labels)\n",
        "            right_gini = find_gini_impurity(right_labels)\n",
        "\n",
        "            # Weighted average Gini Impurity for the split\n",
        "            gini = (len(left_labels) / len(y)) * left_gini + (len(right_labels) / len(y)) * right_gini\n",
        "\n",
        "\n",
        "\n",
        "            # find min possible gini\n",
        "            if gini < best_gini:\n",
        "                best_gini = gini\n",
        "                best_feature = feature_index\n",
        "                best_threshold = threshold\n",
        "\n",
        "    return best_feature, best_threshold\n"
      ],
      "metadata": {
        "id": "VWcE25ub-Yf5"
      },
      "execution_count": 66,
      "outputs": []
    },
    {
      "cell_type": "markdown",
      "source": [
        "Step 4: Implement Recursive Tree Building\n"
      ],
      "metadata": {
        "id": "rl1Z3slyAx7w"
      }
    },
    {
      "cell_type": "code",
      "source": [
        "import numpy as np\n",
        "\n",
        "def most_common_label(y):\n",
        "    labels, counts = np.unique(y, return_counts=True)\n",
        "    return labels[np.argmax(counts)]\n"
      ],
      "metadata": {
        "id": "NrRGuoaNDIwc"
      },
      "execution_count": 67,
      "outputs": []
    },
    {
      "cell_type": "code",
      "source": [
        "class Node:\n",
        "    def __init__(self, feature_index=None, threshold=None, left=None, right=None, value=None):\n",
        "        self.feature_index = feature_index  # Which feature to split on\n",
        "        self.threshold = threshold          # Threshold value to split at\n",
        "        self.left = left                    # Left subtree (X <= threshold)\n",
        "        self.right = right                  # Right subtree (X > threshold)\n",
        "        self.value = value                  # If it's a leaf, this is the predicted class\n",
        "\n",
        "def build_tree(x,y,depth=0,max_depth = 3, min_samples = 2):\n",
        "\n",
        "  # if max depth is reached\n",
        "  if depth >= max_depth:\n",
        "    leaf_value = most_common_label(y)\n",
        "    return Node(value=leaf_value)\n",
        "\n",
        "  # if all labels are same\n",
        "  if len(np.unique(y)) == 1:\n",
        "    return Node(value=y[0])\n",
        "\n",
        "  # no of samples is below min_threshold\n",
        "  if len(y) < min_samples:\n",
        "    leaf_value = most_common_label(y)\n",
        "    return Node(value=leaf_value)\n",
        "\n",
        "  best_feature, best_threshold = best_split(x,y)\n",
        "\n",
        "  if best_feature is None:\n",
        "        return Node(value=most_common_label(y))\n",
        "\n",
        "  # split the dataset\n",
        "  left_indices = x[:, best_feature] <= best_threshold\n",
        "  right_indices = ~left_indices\n",
        "\n",
        "  # recursive calls: increase depth by 1\n",
        "  left_subtree = build_tree(x[left_indices], y[left_indices], depth + 1, max_depth)\n",
        "  right_subtree = build_tree(x[right_indices], y[right_indices], depth + 1, max_depth)\n",
        "\n",
        "  return Node(\n",
        "        feature_index=best_feature,\n",
        "        threshold=best_threshold,\n",
        "        left=left_subtree,\n",
        "        right=right_subtree\n",
        "    )\n",
        "\n",
        "\n"
      ],
      "metadata": {
        "id": "O3-jYV5mAtxh"
      },
      "execution_count": 88,
      "outputs": []
    },
    {
      "cell_type": "markdown",
      "source": [
        "Step 5: Implement Prediction:\n",
        "Traverse the tree recursively for each test point.\n",
        "At a leaf node, return the stored class label.\n",
        "\n"
      ],
      "metadata": {
        "id": "7vWuDYRqGUOT"
      }
    },
    {
      "cell_type": "code",
      "source": [
        "def predict(node, x):\n",
        "    #If we reach a leaf node, return the stored class label\n",
        "    if node.value is not None:\n",
        "        return node.value\n",
        "\n",
        "    # Get the feature value for the test point\n",
        "    feature_value = x[node.feature_index]\n",
        "\n",
        "    #if feature value greater than threshold then go to the right otherwise go to the left,repeat recursively until leaf node is reached\n",
        "    if feature_value <= node.threshold:\n",
        "        return predict(node.left, x)\n",
        "    else:\n",
        "        return predict(node.right, x)\n",
        "\n",
        "tree = build_tree(x,y)\n"
      ],
      "metadata": {
        "id": "7ks_jwpoGdxG"
      },
      "execution_count": 89,
      "outputs": []
    },
    {
      "cell_type": "code",
      "source": [
        "test_data = np.array([\n",
        "    [6.0, 2.1, 0],   # Expected: Beer\n",
        "    [39.0, 0.05, 1], # Expected: Whiskey\n",
        "    [13.0, 1.3, 1]   # Expected: Wine\n",
        "])\n",
        "predictions = [predict(tree, x_test) for x_test in test_data]\n",
        "\n",
        "for p in predictions:\n",
        "  if(int(p) == 2):\n",
        "    print(\"Wine\")\n",
        "  elif(int(p) == 0):\n",
        "    print(\"Beer\")\n",
        "  else:\n",
        "    print(\"Whiskey\")"
      ],
      "metadata": {
        "colab": {
          "base_uri": "https://localhost:8080/"
        },
        "id": "gPbPhCv5L6yV",
        "outputId": "6652d9ee-7f52-4c45-d987-cde75b0e216b"
      },
      "execution_count": 90,
      "outputs": [
        {
          "output_type": "stream",
          "name": "stdout",
          "text": [
            "Wine\n",
            "Whiskey\n",
            "Wine\n"
          ]
        }
      ]
    },
    {
      "cell_type": "markdown",
      "source": [
        "(this is chatgpt generated)(i don't know matplotlib yet)"
      ],
      "metadata": {
        "id": "SsBQJRpUPi8d"
      }
    },
    {
      "cell_type": "code",
      "source": [
        "import matplotlib.pyplot as plt\n",
        "\n",
        "def plot_tree(node, depth=0, pos=None, parent_pos=None, text='', x_offset=0.5, y_offset=1.5, ax=None):\n",
        "    if ax is None:\n",
        "        fig, ax = plt.subplots(figsize=(12, 8))\n",
        "        ax.set_axis_off()\n",
        "        pos = (0.5, 1.0)\n",
        "\n",
        "    # Label for the current node\n",
        "    if node.value is not None:\n",
        "        label = f'Class: {node.value}'\n",
        "    else:\n",
        "        label = f'X[{node.feature_index}] <= {node.threshold:.2f}'\n",
        "\n",
        "    # Plot the node\n",
        "    ax.text(pos[0], pos[1], label, ha='center', bbox=dict(facecolor='lightblue', boxstyle='round,pad=0.5'))\n",
        "\n",
        "    # Draw edge from parent to current node\n",
        "    if parent_pos:\n",
        "        ax.plot([parent_pos[0], pos[0]], [parent_pos[1], pos[1]], 'k-')\n",
        "        mid_x = (parent_pos[0] + pos[0]) / 2\n",
        "        mid_y = (parent_pos[1] + pos[1]) / 2\n",
        "        ax.text(mid_x, mid_y + 0.02, text, ha='center', fontsize=9)\n",
        "\n",
        "    # Recursively draw children\n",
        "    if node.left:\n",
        "        left_pos = (pos[0] - x_offset / (2 ** depth), pos[1] - y_offset)\n",
        "        plot_tree(node.left, depth + 1, left_pos, pos, 'Yes', x_offset, y_offset, ax)\n",
        "    if node.right:\n",
        "        right_pos = (pos[0] + x_offset / (2 ** depth), pos[1] - y_offset)\n",
        "        plot_tree(node.right, depth + 1, right_pos, pos, 'No', x_offset, y_offset, ax)\n",
        "\n",
        "    if depth == 0:\n",
        "        plt.show()\n",
        "\n",
        "plot_tree(tree)\n"
      ],
      "metadata": {
        "colab": {
          "base_uri": "https://localhost:8080/",
          "height": 653
        },
        "id": "NUGFRh_VOoZ9",
        "outputId": "7bc3de75-f91e-4efa-f4db-783c28ff9bc8"
      },
      "execution_count": 92,
      "outputs": [
        {
          "output_type": "display_data",
          "data": {
            "text/plain": [
              "<Figure size 1200x800 with 1 Axes>"
            ],
            "image/png": "[encoded data removed]"
          },
          "metadata": {}
        }
      ]
    }
  ]
}