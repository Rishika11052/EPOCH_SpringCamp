{
  "nbformat": 4,
  "nbformat_minor": 0,
  "metadata": {
    "colab": {
      "provenance": []
    },
    "kernelspec": {
      "name": "python3",
      "display_name": "Python 3"
    },
    "language_info": {
      "name": "python"
    }
  },
  "cells": [
    {
      "cell_type": "code",
      "execution_count": null,
      "metadata": {
        "id": "ik5B77LAJdUq"
      },
      "outputs": [],
      "source": [
        "data = [\n",
        "    [150, 7.0, 1, 'Apple'],\n",
        "    [120, 6.5, 0, 'Banana'],\n",
        "    [180, 7.5, 2, 'Orange'],\n",
        "    [155, 7.2, 1, 'Apple'],\n",
        "    [110, 6.0, 0, 'Banana'],\n",
        "    [190, 7.8, 2, 'Orange'],\n",
        "    [145, 7.1, 1, 'Apple'],\n",
        "    [115, 6.3, 0, 'Banana']\n",
        "]\n"
      ]
    },
    {
      "cell_type": "markdown",
      "source": [
        "Step 1: Encoding of strings"
      ],
      "metadata": {
        "id": "Zg2AYEL-KqQO"
      }
    },
    {
      "cell_type": "code",
      "source": [
        "import numpy as np\n",
        "\n",
        "# last element of each row of the dataset is for labels\n",
        "labels = [entry[-1] for entry in data]\n",
        "\n",
        "# rest is for features\n",
        "features = [entry[:-1] for entry in data]\n",
        "\n",
        "# Label Encoding\n",
        "\n",
        "# extract all the unique values, here 'Apple', 'Banana' , 'Orange'\n",
        "unique_labels = np.unique(labels)\n",
        "\n",
        "# map 'Apple' to 2, 'Banana' to 0, 'Orange' to 1\n",
        "label_mapping = {label: idx for idx, label in enumerate(unique_labels)}\n",
        "\n",
        "# Convert the labels to integers using the label_mapping\n",
        "labels = np.array([label_mapping[label] for label in labels])\n",
        "\n",
        "# Convert the features to a numpy array\n",
        "feature_matrix = np.array(features, dtype=float)\n",
        "\n",
        "\n",
        "x = feature_matrix\n",
        "y = labels\n",
        "\n",
        "\n",
        "\n"
      ],
      "metadata": {
        "id": "786Cm7BEJi5s"
      },
      "execution_count": null,
      "outputs": []
    },
    {
      "cell_type": "markdown",
      "source": [
        "Step 2: Euclidean Distance Function\n"
      ],
      "metadata": {
        "id": "jMYFgCaILnzP"
      }
    },
    {
      "cell_type": "code",
      "source": [
        "import numpy as np\n",
        "\n",
        "# Euclidean distance function using numpy\n",
        "def find_euclidean_distance(point1, point2):\n",
        "    # Using numpy to compute the Euclidean distance directly\n",
        "    return np.linalg.norm(np.array(point1) - np.array(point2))"
      ],
      "metadata": {
        "id": "p0tIbOGZLpyY"
      },
      "execution_count": null,
      "outputs": []
    },
    {
      "cell_type": "markdown",
      "source": [
        "Step 3: Implement the KNN Classifier\n"
      ],
      "metadata": {
        "id": "g_DBXWqxMWUM"
      }
    },
    {
      "cell_type": "code",
      "source": [
        "\n",
        "import numpy as np\n",
        "\n",
        "# Euclidean distance function using numpy\n",
        "def find_euclidean_distance(point1, point2):\n",
        "    return np.linalg.norm(np.array(point1) - np.array(point2))\n",
        "\n",
        "class KNN:\n",
        "    def __init__(self, k=3):\n",
        "        self.k = k  # Store the value of k\n",
        "\n",
        "    def fit(self, X, y):\n",
        "        self.X_train = X  # Store training features\n",
        "        self.y_train = y  # Store training labels\n",
        "\n",
        "    def predict(self, X_test):\n",
        "        return np.array([self.predict_one(x) for x in X_test])  # Predict for all test points\n",
        "\n",
        "    def predict_one(self, x):\n",
        "        # Calculate distances from x to all training samples\n",
        "        distances = [find_euclidean_distance(x, train_sample) for train_sample in self.X_train]\n",
        "        distances = np.array(distances)  # Convert to numpy array for sorting\n",
        "\n",
        "\n",
        "\n",
        "        # Find indices of the k-nearest neighbors\n",
        "        nearest_indices = np.argsort(distances)[:self.k]\n",
        "\n",
        "\n",
        "        # Get the labels of the k-nearest neighbors\n",
        "        k_nearest_labels = self.y_train[nearest_indices]\n",
        "\n",
        "        # Find the most common label among the k-nearest neighbors\n",
        "        unique, counts = np.unique(k_nearest_labels, return_counts=True)\n",
        "\n",
        "\n",
        "        most_common_label = unique[np.argmax(counts)]\n",
        "\n",
        "\n",
        "        return most_common_label\n",
        "\n",
        "\n",
        "\n"
      ],
      "metadata": {
        "id": "nVjSf3gNMYRf"
      },
      "execution_count": null,
      "outputs": []
    },
    {
      "cell_type": "markdown",
      "source": [
        "Step 4: Test Your Classifier\n"
      ],
      "metadata": {
        "id": "2ZyQLRfuTRmn"
      }
    },
    {
      "cell_type": "code",
      "source": [
        "test_data = np.array([\n",
        "    [118, 6.2, 0],  # Expected: Banana\n",
        "    [160, 7.3, 1],  # Expected: Apple\n",
        "    [185, 7.7, 2]   # Expected: Orange\n",
        "])\n"
      ],
      "metadata": {
        "id": "t6IMF2cWTxwk"
      },
      "execution_count": null,
      "outputs": []
    },
    {
      "cell_type": "code",
      "source": [
        "# Create an instance of your classifier with k=3\n",
        "knn_classifier = KNN(k=3)\n",
        "\n",
        "# Fit it on the training data (X, y)\n",
        "knn_classifier.fit(x, y)\n",
        "\n",
        "# Make predictions on the test data\n",
        "predictions = knn_classifier.predict(test_data)\n",
        "\n",
        "\n",
        "\n",
        "\n",
        "for i in predictions:\n",
        "  if(i == 0):\n",
        "    print(\"Apple\")\n",
        "  elif(i == 1):\n",
        "    print(\"Banana\")\n",
        "  elif(i == 2):\n",
        "    print(\"Orange\")\n",
        "\n"
      ],
      "metadata": {
        "colab": {
          "base_uri": "https://localhost:8080/"
        },
        "id": "TlQPJExwTTZ9",
        "outputId": "31888dc7-60ed-4580-a790-1e162cdc1597"
      },
      "execution_count": null,
      "outputs": [
        {
          "output_type": "stream",
          "name": "stdout",
          "text": [
            "Banana\n",
            "Apple\n",
            "Orange\n"
          ]
        }
      ]
    },
    {
      "cell_type": "markdown",
      "source": [
        "Implement a simple accuracy checker if true labels are known\n"
      ],
      "metadata": {
        "id": "r_Au56OBW6xN"
      }
    },
    {
      "cell_type": "code",
      "source": [
        "def accuracy_checker(y_true, y_pred):\n",
        "  accuracy = np.sum(y_true == y_pred) / len(y_true)\n",
        "  return accuracy\n",
        "\n",
        "# for the above test data the true labels are\n",
        "y_true = np.array([1, 0, 2])\n",
        "\n",
        "accuracy = accuracy_checker(y_true, predictions)\n",
        "print(\"Accuracy:\", accuracy*100,\"percent\")"
      ],
      "metadata": {
        "colab": {
          "base_uri": "https://localhost:8080/"
        },
        "id": "wXvlyU7oW-L4",
        "outputId": "6c174106-2c69-436e-e92e-a4744f4ff65f"
      },
      "execution_count": null,
      "outputs": [
        {
          "output_type": "stream",
          "name": "stdout",
          "text": [
            "Accuracy: 100.0 percent\n"
          ]
        }
      ]
    },
    {
      "cell_type": "code",
      "source": [
        "import numpy as np\n",
        "\n",
        "\n",
        "\n",
        "# Normalize each column using Min-Max normalization\n",
        "x_normalized = x.astype(float)  # Ensure the data type is float for normalization\n",
        "\n",
        "# Loop through each column\n",
        "for col in range(x.shape[1]):  # x.shape[1] gives the number of columns\n",
        "    col_min = x[:, col].min()  # Minimum value of the column\n",
        "    col_max = x[:, col].max()  # Maximum value of the column\n",
        "    x_normalized[:, col] = (x[:, col] - col_min) / (col_max - col_min)  # Apply Min-Max formula\n",
        "\n",
        "# Create an instance of your classifier with k=3\n",
        "knn_classifier = KNN(k=3)\n",
        "\n",
        "# Fit it on the training data (X, y)\n",
        "knn_classifier.fit(x_normalized, y)\n",
        "\n",
        "# Make predictions on the test data\n",
        "predictions = knn_classifier.predict(test_data)\n",
        "\n",
        "\n",
        "\n",
        "\n",
        "for i in predictions:\n",
        "  if(i == 0):\n",
        "    print(\"Apple\")\n",
        "  elif(i == 1):\n",
        "    print(\"Banana\")\n",
        "  elif(i == 2):\n",
        "    print(\"Orange\")\n",
        "\n",
        "\n",
        "\n",
        "\n"
      ],
      "metadata": {
        "colab": {
          "base_uri": "https://localhost:8080/"
        },
        "id": "Kjtm9WK3X1KY",
        "outputId": "735b1065-36fb-4830-dca4-795abfdcb0cb"
      },
      "execution_count": 134,
      "outputs": [
        {
          "output_type": "stream",
          "name": "stdout",
          "text": [
            "Orange\n",
            "Orange\n",
            "Orange\n"
          ]
        }
      ]
    }
  ]
}